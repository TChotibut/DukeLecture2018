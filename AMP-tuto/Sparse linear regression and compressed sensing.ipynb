{
 "cells": [
  {
   "cell_type": "code",
   "execution_count": 2,
   "metadata": {},
   "outputs": [
    {
     "name": "stdout",
     "output_type": "stream",
     "text": [
      "The autoreload extension is already loaded. To reload it, use:\n",
      "  %reload_ext autoreload\n"
     ]
    }
   ],
   "source": [
    "%load_ext autoreload\n",
    "%autoreload 2\n",
    "%matplotlib inline\n",
    "# from jupyterthemes import jtplot\n",
    "# jtplot.style(theme='monokai', fscale=1.5)\n",
    "np.random.seed(42)"
   ]
  },
  {
   "cell_type": "markdown",
   "metadata": {},
   "source": [
    "# Sparse linear regression and compressed sensing"
   ]
  },
  {
   "cell_type": "markdown",
   "metadata": {},
   "source": [
    "We will now look into a different class of models, namely that of *generalized linear models* or GLMs. As before, we will implement AMP algorithms to perform estimation in these models, and try to obtain insights on the models by looking at AMP's state evolution.\n",
    "\n",
    "Let's start by considering the following *sparse linear regression* problem. We use a Gaussian likelihood to impose the linear relation between the observations ${\\bf y} \\in \\mathbb{R}^M$ and the latent variable ${\\bf x}$, and a Bernoulli-Gaussian prior to enforce ${\\bf x} \\in \\mathbb{R}^N$ to be *sparse*, i.e. for most of its components to be identically zero\n",
    "\n",
    "$$\\left\\{\n",
    "\\begin{aligned}\n",
    "&x_i \\sim \\rho \\, \\mathcal{N} (x; 0, 1) + (1 - \\rho) \\, \\delta(x) \\\\\n",
    "&y_\\mu \\sim \\mathcal{N} \\big(y_\\mu; \\sum_i F_{\\mu i} x_i, \\sigma^2\\big)\n",
    "\\end{aligned}\n",
    "\\right.\n",
    "$$\n",
    "\n",
    "Using Bayes theorem we then obtain the following posterior on the latent variable ${\\bf x}$\n",
    "\n",
    "$$P({\\bf x} | {\\bf y}, F) \\propto \\prod_{\\mu} \\mathcal{N} \\big(y_\\mu; \\sum_i F_{\\mu i} x_i, \\sigma^2\\big) \\, \\prod_i P_0 (x_i)$$\n",
    "\n",
    "As before we start by sampling from the generative model $P({\\bf x}, {\\bf y} | F)$. We assume that $F_{\\mu i} \\sim \\mathcal{N} (0, 1/N)$. The important parameters are:\n",
    "\n",
    "- the rows-to-columns ratio in $F$, which we denote by $\\alpha = M/N$, and\n",
    "- the fraction of nonzero elements in ${\\bf x}$, $\\rho$.\n",
    "\n",
    "**Exercise 3**: compute ${\\bf y}$ below, after the remaining variables have been already sampled."
   ]
  },
  {
   "cell_type": "code",
   "execution_count": 3,
   "metadata": {},
   "outputs": [],
   "source": [
    "# %load exo3.py\n",
    "def sample_instance(size_x, frac_nonzeros, rows_to_columns, var_noise):\n",
    "    \"\"\"Samples F from P(F) and {x, y} from P(x, y | F)\"\"\"\n",
    "    \n",
    "    # Some pre-processing\n",
    "    size_nonzeros = int(np.ceil(frac_nonzeros * size_x))\n",
    "    size_y = int(np.ceil(rows_to_columns * size_x))\n",
    "    \n",
    "    # Sample x from P_0(x)\n",
    "    x0 = np.zeros(size_x)\n",
    "    nonzeros = np.random.choice(size_x, size_nonzeros, replace=False)\n",
    "    x0[nonzeros] = np.random.randn(size_nonzeros)\n",
    "    \n",
    "    # Generate F and y = Fx + noise\n",
    "    F = np.random.randn(size_y, size_x) / np.sqrt(size_x)\n",
    "    noise = np.sqrt(var_noise) * np.random.randn(size_y)\n",
    "    \n",
    "    y = F.dot(x0) + noise\n",
    "\n",
    "    return x0, F, y"
   ]
  },
  {
   "cell_type": "code",
   "execution_count": 25,
   "metadata": {},
   "outputs": [
    {
     "data": {
      "image/png": "[encoded data removed]",
      "text/plain": [
       "<matplotlib.figure.Figure at 0x114e859b0>"
      ]
     },
     "metadata": {},
     "output_type": "display_data"
    }
   ],
   "source": [
    "sns.set_context(\"notebook\", font_scale=1.5)\n",
    "x, F, y = sample_instance(2000, 0.2, 0.5, 1e-5)\n",
    "plt.stem(x);"
   ]
  },
  {
   "cell_type": "markdown",
   "metadata": {},
   "source": [
    "Note that many of the componentd of ${\\bf x}$ are zero, as expected."
   ]
  },
  {
   "cell_type": "markdown",
   "metadata": {},
   "source": [
    "## AMP for sparse linear regression\n",
    "\n",
    "The AMP iteration for the model above reads (see [1, 2])\n",
    "\n",
    "$$\n",
    "\\begin{aligned}\n",
    "&V_\\mu^t = \\sum_i F_{\\mu i}^2 c_i^t, &\\qquad\n",
    "&\\omega_\\mu^t = \\sum_i F_{\\mu i} a_i^t + V_\\mu^t \\frac{y - \\omega_\\mu^{t-1}}{V_\\mu^{t-1} + \\sigma^2}, \\\\\n",
    "&A_i^t = \\sum_\\mu \\frac{F_{\\mu i}^2}{V_\\mu^t + \\sigma^2}, &\\qquad\n",
    "&B_i^t = A_i^t a_i^t + \\sum_\\mu F_{\\mu i} \\frac{y_\\mu - \\omega_\\mu^{t-1}}{V_\\mu^{t-1} + \\sigma^2}, \\\\\n",
    "&c_i^{t + 1} = f_c (A_i^t, B_i^t), &\\qquad\n",
    "&a_i^{t + 1} = f_a (A_i^t, B_i^t).\n",
    "\\end{aligned}\n",
    "$$\n",
    "\n",
    "where $f_{a, c}$ are given by the first and second derivatives of $\\log Z (A, B) = \\log \\int dx \\, P_0 (x) \\, e^{-\\frac12 A x^2 + Bx}$ wrt $B$. Note that the only part of the iteration that depends on the prior $P_0 (x)$ is $f_{a, c}$.\n",
    "\n",
    "Let's first implement the iteration, then $f_{a, c}$ for the Bernoulli-Gaussian prior."
   ]
  },
  {
   "cell_type": "code",
   "execution_count": 5,
   "metadata": {},
   "outputs": [],
   "source": [
    "def iterate_amp(F, y, var_noise, frac_nonzeros,\n",
    "                x0=None, max_iter=100, tol=1e-7, verbose=1):\n",
    "    \"\"\"Iterates AMP to solve y = Fx, w/ x Bernoulli-Gaussian\"\"\"\n",
    "    \n",
    "    # Some pre-processing\n",
    "    size_y, size_x = F.shape\n",
    "    sqrF = F * F\n",
    "    \n",
    "    # Initialize variables\n",
    "    A = np.ones(size_x)\n",
    "    B = np.zeros(size_x)\n",
    "    a = np.zeros(size_x)\n",
    "    c = np.ones(size_x)\n",
    "    v = np.ones(size_y)\n",
    "    w = np.copy(y)\n",
    "    \n",
    "    mses = np.zeros(max_iter)\n",
    "    for t in range(max_iter):\n",
    "        # Store old v and compute new v and w\n",
    "        v_old = np.copy(v)\n",
    "        v = sqrF.dot(c)\n",
    "        w = F.dot(a) - v * ((y - w) / (var_noise + v_old))\n",
    "        \n",
    "        # Iterate A and B and compute new mean and variance\n",
    "        a_old = np.copy(a)\n",
    "        A = sqrF.T.dot(1 / (var_noise + v))\n",
    "        B = F.T.dot((y - w) / (var_noise + v)) + A * a\n",
    "        a, c = prior(A, B, frac_nonzeros)\n",
    "        \n",
    "        # Compute metrics\n",
    "        diff = np.mean(np.abs(a - a_old))\n",
    "        mses[t] = np.mean((a - x0) ** 2) if x0 is not None else 0\n",
    "        \n",
    "        # Print iteration status on screen\n",
    "        if verbose:\n",
    "            print(\"t = %d, diff = %g; mse = %g\" % (t, diff, mses[t]))\n",
    "        \n",
    "        # Check for convergence\n",
    "        if diff < tol:\n",
    "            break\n",
    "            \n",
    "    return mses[:t]"
   ]
  },
  {
   "cell_type": "markdown",
   "metadata": {},
   "source": [
    "In order to implement $f_{a, c}$, we need to compute $\\log Z (A, B)$ and its derivatives. This can be performed in closed-form for the Bernouli-Gaussian prior and is left as an exercise for the reader ;)"
   ]
  },
  {
   "cell_type": "code",
   "execution_count": 6,
   "metadata": {},
   "outputs": [],
   "source": [
    "def prior(A, B, rho):\n",
    "    \"\"\"Compute f and f' for Bernoulli-Gaussian prior\"\"\"\n",
    "    \n",
    "    # let x = s * t, with s ~ Bernoulli(p) and t ~ N(0, 1); then m = E(t), v = Var(t), p = E(s)\n",
    "    m = B / (1 + A)\n",
    "    v = 1 / (1 + A)\n",
    "    p = rho / (rho + (1 - rho) * np.sqrt(1 + A) * np.exp(-.5 * m ** 2 / v))\n",
    "    \n",
    "    # compute E(s * t) and Var(s * t) from E(t), Var(t) and E(s)\n",
    "    a = p * m\n",
    "    c = p * v + p * (1 - p) * m ** 2\n",
    "    return a, c"
   ]
  },
  {
   "cell_type": "markdown",
   "metadata": {},
   "source": [
    "Let's see if our implementation works. We'll test it with the data with generated before."
   ]
  },
  {
   "cell_type": "code",
   "execution_count": 7,
   "metadata": {},
   "outputs": [
    {
     "name": "stdout",
     "output_type": "stream",
     "text": [
      "t = 0, diff = 0.0398033; mse = 0.172325\n",
      "t = 1, diff = 0.144805; mse = 0.098441\n",
      "t = 2, diff = 0.141992; mse = 0.0639177\n",
      "t = 3, diff = 0.0991968; mse = 0.0407444\n",
      "t = 4, diff = 0.0669662; mse = 0.0268848\n",
      "t = 5, diff = 0.0454614; mse = 0.0178901\n",
      "t = 6, diff = 0.0372369; mse = 0.0121785\n",
      "t = 7, diff = 0.0278882; mse = 0.00876821\n",
      "t = 8, diff = 0.0228935; mse = 0.00580281\n",
      "t = 9, diff = 0.019284; mse = 0.00377963\n",
      "t = 10, diff = 0.0170755; mse = 0.0022014\n",
      "t = 11, diff = 0.0144038; mse = 0.00138264\n",
      "t = 12, diff = 0.0120123; mse = 0.000803358\n",
      "t = 13, diff = 0.00941466; mse = 0.000445088\n",
      "t = 14, diff = 0.00756945; mse = 0.000248029\n",
      "t = 15, diff = 0.0057566; mse = 0.000125473\n",
      "t = 16, diff = 0.00406548; mse = 6.29563e-05\n",
      "t = 17, diff = 0.0024762; mse = 3.46423e-05\n",
      "t = 18, diff = 0.00139796; mse = 1.89512e-05\n",
      "t = 19, diff = 0.000933051; mse = 1.18642e-05\n",
      "t = 20, diff = 0.000637904; mse = 9.84183e-06\n",
      "t = 21, diff = 0.000431823; mse = 8.83734e-06\n",
      "t = 22, diff = 0.00031091; mse = 8.44828e-06\n",
      "t = 23, diff = 0.000192938; mse = 8.30015e-06\n",
      "t = 24, diff = 0.000121815; mse = 8.28742e-06\n",
      "t = 25, diff = 7.76429e-05; mse = 8.33087e-06\n",
      "t = 26, diff = 5.14451e-05; mse = 8.39303e-06\n",
      "t = 27, diff = 3.33613e-05; mse = 8.41469e-06\n",
      "t = 28, diff = 2.05628e-05; mse = 8.41677e-06\n",
      "t = 29, diff = 1.29906e-05; mse = 8.42922e-06\n",
      "t = 30, diff = 8.21276e-06; mse = 8.42965e-06\n",
      "t = 31, diff = 5.62638e-06; mse = 8.43299e-06\n",
      "t = 32, diff = 3.62653e-06; mse = 8.4346e-06\n",
      "t = 33, diff = 2.50541e-06; mse = 8.43561e-06\n",
      "t = 34, diff = 1.64022e-06; mse = 8.43718e-06\n",
      "t = 35, diff = 1.03649e-06; mse = 8.43742e-06\n",
      "t = 36, diff = 6.74172e-07; mse = 8.43756e-06\n",
      "t = 37, diff = 4.27103e-07; mse = 8.43744e-06\n",
      "t = 38, diff = 2.83804e-07; mse = 8.43743e-06\n",
      "t = 39, diff = 1.89552e-07; mse = 8.43717e-06\n",
      "t = 40, diff = 1.25767e-07; mse = 8.437e-06\n",
      "t = 41, diff = 8.39132e-08; mse = 8.43692e-06\n"
     ]
    }
   ],
   "source": [
    "mses_amp = iterate_amp(F, y, var_noise=1e-5, frac_nonzeros=0.2, x0=x);"
   ]
  },
  {
   "cell_type": "markdown",
   "metadata": {},
   "source": [
    "It seems to be converging (`diff` is going down), and it's also able to find an estimate which is very close to the planted solution (`mse` is going down).\n",
    "\n",
    "It's not always true that one can recover the planted solution: as a matter of fact, this only happens if ${\\bf x}$ is sparse enough (i.e. $\\rho$ is small enough), or if we made enough measurements (i.e. $\\alpha$ is large enough). We'll study the interplay between $\\rho$ and $\\alpha$ in what follows.\n",
    "\n",
    "But first, let's implement the state evolution for the algorithm above."
   ]
  },
  {
   "cell_type": "markdown",
   "metadata": {},
   "source": [
    "## State evolution"
   ]
  },
  {
   "cell_type": "markdown",
   "metadata": {},
   "source": [
    "The state evolution is given by the following iteration\n",
    "\n",
    "$$\n",
    "A^{t + 1} = \\frac{\\alpha}{V^t + \\sigma^2}, \\qquad\n",
    "V^{t + 1} = \\int dx \\, P_0(x) \\int Dz \\, f_a (A^t, A^t x + \\sqrt{A^t} z).\n",
    "$$\n",
    "\n",
    "Let's implement and test it.\n",
    "\n",
    "**Exercise 4**: implement the computation of $A^{t + 1}$ below. Tip: $\\alpha$ is called `rows_to_columns` in the code"
   ]
  },
  {
   "cell_type": "code",
   "execution_count": 8,
   "metadata": {},
   "outputs": [],
   "source": [
    "# %load exo4.py\n",
    "from scipy.integrate import quad\n",
    "\n",
    "def iterate_se(frac_nonzeros, rows_to_columns, var_noise, max_iter=100, tol=1e-7, verbose=1):\n",
    "    \"\"\"Iterates state evolution associated to AMP implementation above\"\"\"\n",
    "    \n",
    "    # Define function to be integrated at each step\n",
    "    f = lambda A: lambda z: np.exp(-z ** 2 / 2) / np.sqrt(2 * np.pi) * \\\n",
    "            ((1 - frac_nonzeros) * prior(A, np.sqrt(A) * z, frac_nonzeros)[1] + \\\n",
    "             frac_nonzeros * prior(A, np.sqrt(A * (1 + A)) * z, frac_nonzeros)[1])\n",
    "    \n",
    "    v = np.zeros(max_iter)\n",
    "    v[0] = frac_nonzeros\n",
    "    \n",
    "    for t in range(max_iter - 1):\n",
    "        A = rows_to_columns / (var_noise + v[t])\n",
    "        v[t + 1] = quad(f(A), -10, 10)[0]\n",
    "        \n",
    "        diff = np.abs(v[t + 1] - v[t])\n",
    "        if verbose:\n",
    "            print(\"t = %d, diff = %g; v = %g\" % (t, diff, v[t + 1]))\n",
    "            \n",
    "        if diff < tol:\n",
    "            break\n",
    "    \n",
    "    return v[:t + 1]"
   ]
  },
  {
   "cell_type": "code",
   "execution_count": 9,
   "metadata": {},
   "outputs": [
    {
     "name": "stdout",
     "output_type": "stream",
     "text": [
      "t = 0, diff = 0.0942057; v = 0.105794\n",
      "t = 1, diff = 0.0377029; v = 0.0680914\n",
      "t = 2, diff = 0.0211465; v = 0.0469449\n",
      "t = 3, diff = 0.0137278; v = 0.0332171\n",
      "t = 4, diff = 0.0096076; v = 0.0236095\n",
      "t = 5, diff = 0.00698217; v = 0.0166274\n",
      "t = 6, diff = 0.00514239; v = 0.011485\n",
      "t = 7, diff = 0.00376954; v = 0.00771542\n",
      "t = 8, diff = 0.00271023; v = 0.00500519\n",
      "t = 9, diff = 0.00188795; v = 0.00311724\n",
      "t = 10, diff = 0.00126128; v = 0.00185596\n",
      "t = 11, diff = 0.000801748; v = 0.00105421\n",
      "t = 12, diff = 0.000482362; v = 0.00057185\n",
      "t = 13, diff = 0.000274055; v = 0.000297795\n",
      "t = 14, diff = 0.000147184; v = 0.000150611\n",
      "t = 15, diff = 7.50335e-05; v = 7.55775e-05\n",
      "t = 16, diff = 3.65645e-05; v = 3.90129e-05\n",
      "t = 17, diff = 1.71881e-05; v = 2.18248e-05\n",
      "t = 18, diff = 7.87279e-06; v = 1.3952e-05\n",
      "t = 19, diff = 3.5468e-06; v = 1.04052e-05\n",
      "t = 20, diff = 1.58304e-06; v = 8.82216e-06\n",
      "t = 21, diff = 7.03213e-07; v = 8.11895e-06\n",
      "t = 22, diff = 3.11674e-07; v = 7.80727e-06\n",
      "t = 23, diff = 1.37996e-07; v = 7.66928e-06\n",
      "t = 24, diff = 6.10701e-08; v = 7.60821e-06\n"
     ]
    }
   ],
   "source": [
    "mses_se = iterate_se(frac_nonzeros=0.2, rows_to_columns=0.5, var_noise=1e-5);"
   ]
  },
  {
   "cell_type": "code",
   "execution_count": 10,
   "metadata": {},
   "outputs": [
    {
     "data": {
      "text/plain": [
       "(0, 30)"
      ]
     },
     "execution_count": 10,
     "metadata": {},
     "output_type": "execute_result"
    },
    {
     "data": {
      "image/png": "[encoded data removed]",
      "text/plain": [
       "<matplotlib.figure.Figure at 0x11598eeb8>"
      ]
     },
     "metadata": {},
     "output_type": "display_data"
    }
   ],
   "source": [
    "# Compare MSE obtained in AMP and state evolution, *at each iteration*\n",
    "plt.plot(mses_amp, \"o\")\n",
    "plt.plot(mses_se, \"-\")\n",
    "plt.ylabel(\"MSE\")\n",
    "plt.xlabel(\"iteration\")\n",
    "plt.xlim([0, 30])"
   ]
  },
  {
   "cell_type": "markdown",
   "metadata": {},
   "source": [
    "Note that here the state evolution is actually able to predict AMP performance *at each iteration*. In low-rank matrix factorization this wasn't possible, due to the existence of a trivial fixed-point which doesn't allows us to perform an uninformative initialization."
   ]
  },
  {
   "cell_type": "markdown",
   "metadata": {},
   "source": [
    "## The Donoho-Tanner transition"
   ]
  },
  {
   "cell_type": "markdown",
   "metadata": {},
   "source": [
    "Sparse linear regression has been studied at least since the 90s; the LASSO estimator for instance, which proposes to find a sparse solution in a linear system by solving\n",
    "\n",
    "$$\n",
    "\\hat{x} (y) = \\operatorname*{arg\\,min}_x \\; \\| y - Fx \\|^2_2 + \\lambda \\| x \\|_1\n",
    "$$\n",
    "\n",
    "has been introduced in 1996 by Tibshirani. In the 2000s however, a surge of interest has occurred in the field of signal processing, due to the realization that, with these techniques, a signal could be recovered using fewer-than-usual measurements, as long the signal is in an appropriate basis.\n",
    "\n",
    "Donoho and Tanner [5] studied how many measurements are needed for a signal with a fraction $\\rho$ of nonzero elements to be recovered using the LASSO estimator (and other similar approaches that employ $\\ell_1$ regularization). This result can also be obtained using replica theory, see [3, 4]. We draw this curve below using the approach described in the Appendix B of [2]."
   ]
  },
  {
   "cell_type": "code",
   "execution_count": 27,
   "metadata": {},
   "outputs": [
    {
     "data": {
      "text/plain": [
       "Text(0,0.5,'rows to columns ratio $\\\\alpha$')"
      ]
     },
     "execution_count": 27,
     "metadata": {},
     "output_type": "execute_result"
    },
    {
     "data": {
      "image/png": "[encoded data removed]",
      "text/plain": [
       "<matplotlib.figure.Figure at 0x114dbdb70>"
      ]
     },
     "metadata": {},
     "output_type": "display_data"
    }
   ],
   "source": [
    "from scipy.special import erfc\n",
    "from scipy.optimize import root\n",
    "\n",
    "def find_dt_transition(rho, max_iter=250, tol=1e-11):\n",
    "    \"\"\"Fixed-point iteration to find Donoho-Tanner transition\"\"\"\n",
    "    \n",
    "    # $\\lambda$ at each iteration is updated s.t. $f(\\lambda) = 0$\n",
    "    f = lambda alpha: lambda lamb: alpha * lamb - (1 - rho) * np.sqrt(2 / np.pi) * np.exp(-.5 * lamb ** 2)\n",
    "\n",
    "    # Solve system of equations in $\\lambda$ and $\\alpha$ using fixed-point iteration\n",
    "    alpha = 0.5\n",
    "    for t in range(max_iter):\n",
    "        alpha_old = alpha\n",
    "        lamb = root(f(alpha), 1)[\"x\"][0]\n",
    "        alpha = rho + (1 - rho) * erfc(lamb / np.sqrt(2))\n",
    "        \n",
    "        if np.abs(alpha_old - alpha) < tol:\n",
    "            break\n",
    "        \n",
    "    return alpha\n",
    "\n",
    "# Run for many rhos and plot results\n",
    "rhos = np.arange(0.001, 1.0, 0.001)\n",
    "alphas = [find_dt_transition(rho) for rho in rhos]\n",
    "\n",
    "plt.plot(rhos, rhos, \"k-\", lw=2)\n",
    "plt.plot(rhos, alphas, \"k-\", alpha=0.7)\n",
    "plt.xlabel(r\"fraction of nonzeros $\\rho$\")\n",
    "plt.ylabel(r\"rows to columns ratio $\\alpha$\")"
   ]
  },
  {
   "cell_type": "markdown",
   "metadata": {},
   "source": [
    "Let's understand the figure above. It tells us for which value of $\\rho$ and $\\alpha$ the $\\ell_1$ approach works: for all values above the gray curve. One should also notice that below the solid black curve, it is actually impossible to solve the problem, as the linear system can't be solved even if only the nonzero elements are considered.\n",
    "\n",
    "But what about the region between the solid and gray lines? Can any algorithm work in there? Also, how well does AMP in solving this problem?\n",
    "\n",
    "Let's analyze the performance of AMP. We want to determine at what value of $\\alpha$ AMP starts providing a \"good\" solution, i.e. a solution of small MSE, at a fixed value of $\\rho$. That can be done by means of a binary search, using the results provided by the state evolution."
   ]
  },
  {
   "cell_type": "code",
   "execution_count": 12,
   "metadata": {},
   "outputs": [
    {
     "name": "stdout",
     "output_type": "stream",
     "text": [
      "alpha = 0.6, found solution = True\n",
      "alpha = 0.4, found solution = True\n",
      "alpha = 0.3, found solution = False\n",
      "alpha = 0.35, found solution = False\n",
      "alpha = 0.375, found solution = True\n",
      "alpha = 0.3625, found solution = True\n",
      "alpha = 0.35625, found solution = False\n",
      "alpha = 0.359375, found solution = True\n",
      "alpha = 0.357813, found solution = False\n",
      "alpha = 0.358594, found solution = False\n"
     ]
    },
    {
     "data": {
      "text/plain": [
       "0.358984375"
      ]
     },
     "execution_count": 12,
     "metadata": {},
     "output_type": "execute_result"
    }
   ],
   "source": [
    "def find_spinodal(rho, tol=1e-3, threshold=1e-2, verbose=1):\n",
    "    \"\"\"Determines algorithmic transition by performing binary search\"\"\"\n",
    "    \n",
    "    # Returns True if solution has been found\n",
    "    f = lambda x: (iterate_se(rho, x, 1e-10, verbose=0)[-1] < threshold)\n",
    "    \n",
    "    # Perform binary search\n",
    "    alpha_l, alpha_r = rho, 1\n",
    "    f_l, f_r = f(alpha_l), f(alpha_r)\n",
    "    while alpha_r - alpha_l > tol:\n",
    "        alpha_m = .5 * (alpha_l + alpha_r)\n",
    "        f_m = f(alpha_m)\n",
    "        if verbose:\n",
    "            print(\"alpha = %g, found solution = %s\" % (alpha_m, f_m))\n",
    "        \n",
    "        if f_m:\n",
    "            alpha_r = alpha_m\n",
    "        else:\n",
    "            alpha_l = alpha_m\n",
    "            \n",
    "    return .5 * (alpha_l + alpha_r)\n",
    "\n",
    "find_spinodal(0.2)"
   ]
  },
  {
   "cell_type": "code",
   "execution_count": 32,
   "metadata": {},
   "outputs": [
    {
     "name": "stdout",
     "output_type": "stream",
     "text": [
      "rho = 0.01, alpha = 0.0104834\n",
      "rho = 0.04, alpha = 0.0985938\n",
      "rho = 0.07, alpha = 0.156733\n",
      "rho = 0.1, alpha = 0.209424\n",
      "rho = 0.13, alpha = 0.257017\n",
      "rho = 0.16, alpha = 0.302324\n",
      "rho = 0.19, alpha = 0.345435\n",
      "rho = 0.22, alpha = 0.385674\n",
      "rho = 0.25, alpha = 0.424683\n",
      "rho = 0.28, alpha = 0.461758\n",
      "rho = 0.31, alpha = 0.497661\n",
      "rho = 0.34, alpha = 0.532393\n",
      "rho = 0.37, alpha = 0.565337\n",
      "rho = 0.4, alpha = 0.597754\n",
      "rho = 0.43, alpha = 0.628442\n",
      "rho = 0.46, alpha = 0.658545\n",
      "rho = 0.49, alpha = 0.686729\n",
      "rho = 0.52, alpha = 0.714531\n",
      "rho = 0.55, alpha = 0.742041\n",
      "rho = 0.58, alpha = 0.767441\n",
      "rho = 0.61, alpha = 0.792432\n",
      "rho = 0.64, alpha = 0.816836\n",
      "rho = 0.67, alpha = 0.839834\n",
      "rho = 0.7, alpha = 0.861426\n",
      "rho = 0.73, alpha = 0.882666\n",
      "rho = 0.76, alpha = 0.902031\n",
      "rho = 0.79, alpha = 0.92084\n",
      "rho = 0.82, alpha = 0.938477\n",
      "rho = 0.85, alpha = 0.954004\n",
      "rho = 0.88, alpha = 0.968594\n",
      "rho = 0.91, alpha = 0.980664\n",
      "rho = 0.94, alpha = 0.990156\n",
      "rho = 0.97, alpha = 0.997656\n",
      "rho = 1, alpha = 1\n"
     ]
    }
   ],
   "source": [
    "# Run for many rhos and plot results\n",
    "rhos_amp = np.linspace(0.01, 1, 34)\n",
    "alphas_amp = np.zeros(len(rhos_amp))\n",
    "for i, rho in enumerate(rhos_amp):\n",
    "    alphas_amp[i] = find_spinodal(rho, tol=1e-3, verbose=False)\n",
    "    print(\"rho = %g, alpha = %g\" % (rho, alphas_amp[i]))"
   ]
  },
  {
   "cell_type": "code",
   "execution_count": 71,
   "metadata": {},
   "outputs": [
    {
     "data": {
      "image/png": "[encoded data removed]",
      "text/plain": [
       "<matplotlib.figure.Figure at 0x1131f50b8>"
      ]
     },
     "metadata": {},
     "output_type": "display_data"
    }
   ],
   "source": [
    "ax = plt.figure(figsize=(7,7))\n",
    "plt.plot(rhos, rhos, lw=2, label=r'$\\rho=\\alpha$')\n",
    "# plt.plot(rhos, alphas, label=\"DT\")\n",
    "plt.plot(rhos_amp, alphas_amp, lw=2, label=\"AMP\")\n",
    "plt.legend()\n",
    "plt.xlabel(r\"fraction of nonzeros $\\rho$\")\n",
    "plt.ylabel(r\"rows to columns ratio $\\alpha$\")\n",
    "plt.title('Phase diagram for noiseless CS with Bernoulli-Gaussian')\n",
    "plt.xlim((0,1))\n",
    "plt.ylim((0,1))\n",
    "\n",
    "ax.text(0.3, 0.7, 'Easy Phase', bbox=dict(facecolor=(0,1,0), alpha=0.5))\n",
    "ax.text(0.4, 0.57, 'Hard Phase', rotation=45, bbox=dict(facecolor='orange', alpha=0.5))\n",
    "ax.text(0.5, 0.35, 'Impossible Phase', bbox=dict(facecolor=(1,0,0), alpha=0.5))\n",
    "plt.savefig('../Lecture Notes/CS_AMP_phase_diagram.pdf', bbox_inches='tight')"
   ]
  },
  {
   "cell_type": "markdown",
   "metadata": {},
   "source": [
    "So that's it: for this problem, AMP seems to perform better than $\\ell_1$-based approaches! \n",
    "\n",
    "Notice however that we have made a few assumptions: that $F_{\\mu i} \\sim \\mathcal{N} (0, 1/N)$, and that the signal we try to reconstruct is actually sampled from $P_0 (x)$, which is Bernoulli-Gaussian with known parameters. If these assumptions are not met, AMP might be not as good, or, even worse -- it might not even converge!\n",
    "\n",
    "A lot of effort has been made in the last few years, by our group and others, so as to made AMP more robust in dealing with real-world data. For recent developments see [6, 7]."
   ]
  },
  {
   "cell_type": "markdown",
   "metadata": {},
   "source": [
    "## References\n",
    "\n",
    "1. Zdeborová, Lenka, and Florent Krzakala. \"Statistical physics of inference: Thresholds and algorithms.\" Advances in Physics 65.5 (2016): 453-552.\n",
    "\n",
    "2. Krzakala, Florent, et al. \"Probabilistic reconstruction in compressed sensing: algorithms, phase diagrams, and threshold achieving matrices.\" Journal of Statistical Mechanics: Theory and Experiment 2012.08 (2012): P08009.\n",
    "\n",
    "3. Donoho, David L., Arian Maleki, and Andrea Montanari. \"Message-passing algorithms for compressed sensing.\" Proceedings of the National Academy of Sciences 106.45 (2009): 18914-18919.\n",
    "\n",
    "4. Kabashima, Yoshiyuki, Tadashi Wadayama, and Toshiyuki Tanaka. \"A typical reconstruction limit for compressed sensing based on lp-norm minimization.\" Journal of Statistical Mechanics: Theory and Experiment 2009.09 (2009): L09003.\n",
    "\n",
    "5. Donoho, David L., and Jared Tanner. \"Sparse nonnegative solution of underdetermined linear equations by linear programming.\" Proceedings of the National Academy of Sciences of the United States of America 102.27 (2005): 9446-9451.\n",
    "\n",
    "6. Manoel, Andre, et al. \"Sparse estimation with the swept approximated message-passing algorithm.\" arXiv preprint arXiv:1406.4311 (2014).\n",
    "\n",
    "7. Rangan, Sundeep, Philip Schniter, and Alyson K. Fletcher. \"Vector approximate message passing.\" Information Theory (ISIT), 2017 IEEE International Symposium on. IEEE, 2017."
   ]
  }
 ],
 "metadata": {
  "kernelspec": {
   "display_name": "Python 3",
   "language": "python",
   "name": "python3"
  },
  "language_info": {
   "codemirror_mode": {
    "name": "ipython",
    "version": 3
   },
   "file_extension": ".py",
   "mimetype": "text/x-python",
   "name": "python",
   "nbconvert_exporter": "python",
   "pygments_lexer": "ipython3",
   "version": "3.6.4"
  },
  "varInspector": {
   "cols": {
    "lenName": 16,
    "lenType": 16,
    "lenVar": 40
   },
   "kernels_config": {
    "python": {
     "delete_cmd_postfix": "",
     "delete_cmd_prefix": "del ",
     "library": "var_list.py",
     "varRefreshCmd": "print(var_dic_list())"
    },
    "r": {
     "delete_cmd_postfix": ") ",
     "delete_cmd_prefix": "rm(",
     "library": "var_list.r",
     "varRefreshCmd": "cat(var_dic_list()) "
    }
   },
   "types_to_exclude": [
    "module",
    "function",
    "builtin_function_or_method",
    "instance",
    "_Feature"
   ],
   "window_display": false
  }
 },
 "nbformat": 4,
 "nbformat_minor": 2
}
