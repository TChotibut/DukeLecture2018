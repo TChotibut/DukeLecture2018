{
 "cells": [
  {
   "cell_type": "code",
   "execution_count": 1,
   "metadata": {},
   "outputs": [],
   "source": [
    "%load_ext autoreload\n",
    "%autoreload 2\n",
    "%matplotlib inline\n",
    "from jupyterthemes import jtplot\n",
    "jtplot.style(theme='monokai', fscale=1.5)\n",
    "np.random.seed(42)"
   ]
  },
  {
   "cell_type": "markdown",
   "metadata": {},
   "source": [
    "# The perceptron"
   ]
  },
  {
   "cell_type": "markdown",
   "metadata": {},
   "source": [
    "The perceptron is a very simple neural network that performs binary classification, e.g. tries to determine whether ${\\bf F}_i$ is a picture of a cat ($y_i = +1$) or a dog ($y_i = -1$). In order to train the classifier, i.e. to determine its weights ${\\bf x} \\in \\mathbb{R}^N$, one has to solve \n",
    "\n",
    "$${\\bf y} = \\operatorname{sgn} (F {\\bf x})$$.\n",
    "\n",
    "Let's put this problem in a probabilistic framework. We introduce a Gaussian noise inside the $\\operatorname{sgn}$, so as to have a probit likelihood; moreover we will assume that the weights are binary, ${\\bf x} \\in \\{+1, -1\\}^N$. The full model reads\n",
    "\n",
    "$$\\left\\{\n",
    "\\begin{aligned}\n",
    "    &x_i \\sim \\frac12 \\, \\delta(x_i - 1) + \\frac12 \\, \\delta (x_i + 1), \\\\\n",
    "    &y_\\mu \\sim \\frac{1}{2} \\operatorname{erfc} \\big( \\frac{1}{\\sqrt{2 \\sigma^2}} {\\bf F}_\\mu \\cdot {\\bf x} \\big).\n",
    "\\end{aligned}\n",
    "\\right.\n",
    "$$\n",
    "\n",
    "We start as usual by sampling from $P({\\bf x}, {\\bf y} | F)$."
   ]
  },
  {
   "cell_type": "code",
   "execution_count": 2,
   "metadata": {},
   "outputs": [],
   "source": [
    "def sample_instance(size_x, rows_to_columns, var_noise):\n",
    "    \"\"\"Samples F from P(F) and {x, y} from P(x, y | F)\"\"\"\n",
    "    \n",
    "    # Some pre-processing\n",
    "    size_y = int(np.ceil(rows_to_columns * size_x))\n",
    "    \n",
    "    # Sample x from P_0(x)\n",
    "    x0 = np.random.choice([+1, -1], size_x)\n",
    "    \n",
    "    # Generate F and y = sgn(Fx + noise)\n",
    "    F = np.random.randn(size_y, size_x) / np.sqrt(size_x)\n",
    "    noise = np.sqrt(var_noise) * np.random.randn(size_y)\n",
    "    y = np.sign(F.dot(x0) + noise)\n",
    "\n",
    "    return x0, F, y"
   ]
  },
  {
   "cell_type": "code",
   "execution_count": 3,
   "metadata": {},
   "outputs": [
    {
     "name": "stdout",
     "output_type": "stream",
     "text": [
      "[ 1  1 -1 ... -1 -1 -1]\n",
      "[ 1.  1. -1. ... -1.  1.  1.]\n"
     ]
    }
   ],
   "source": [
    "x, F, y = sample_instance(2000, 1.6, 1e-10)\n",
    "print(x)\n",
    "print(y)"
   ]
  },
  {
   "cell_type": "markdown",
   "metadata": {},
   "source": [
    "## Implementing GAMP: generalized approximate message-passing"
   ]
  },
  {
   "cell_type": "markdown",
   "metadata": {},
   "source": [
    "One can adapt AMP to arbitrary likelihoods $P(y | z)$. The important quantity to compute is\n",
    "\n",
    "$$\n",
    "Z_z (y, \\omega, V) = \\int dz \\, P(y | z) \\, \\mathcal{N} (z; \\omega, V)\n",
    "$$\n",
    "\n",
    "from which $g (y, \\omega, V) = \\partial_\\omega \\log Z_z$ can be obtained. The iteration becomes\n",
    "\n",
    "$$\n",
    "\\begin{aligned}\n",
    "&\\omega_\\mu^t = \\sum_i F_{\\mu i} a_i^t + V_\\mu^t g(y_\\mu, \\omega_\\mu^{t-1}, V_\\mu^{t-1}), &\\qquad\n",
    "&V_\\mu^t = \\sum_i F_{\\mu i}^2 c_i^t, \\\\\n",
    "&B_i^t = A_i^t a_i^t + \\sum_\\mu F_{\\mu i} g(y_\\mu, \\omega_\\mu^t, V_\\mu^t), &\\qquad\n",
    "&A_i^t = \\sum_\\mu F_{\\mu i}^2 \\partial_\\omega g(y_\\mu, \\omega_\\mu^t, V_\\mu^t), \\\\\n",
    "&a_i^{t + 1} = f_a (A_i^t, B_i^t), &\\qquad\n",
    "&c_i^{t + 1} = f_c (A_i^t, B_i^t).\n",
    "\\end{aligned}\n",
    "$$\n",
    "\n",
    "Note that for Gaussian likelihoods, $P (y | z) = \\mathcal{N} (y; z, \\sigma^2)$, one gets $g(y, \\omega, V) = \\frac{y - \\omega}{V + \\sigma^2}$, thus recovering the same expression as before."
   ]
  },
  {
   "cell_type": "code",
   "execution_count": 4,
   "metadata": {},
   "outputs": [],
   "source": [
    "def iterate_gamp(F, y, var_noise,\n",
    "                 x0=None, max_iter=100, tol=1e-7, verbose=1):\n",
    "    \"\"\"Iterates GAMP to solve y = sign(Fx), w/ x Rademacher\"\"\"\n",
    "    \n",
    "    # Some pre-processing\n",
    "    size_y, size_x = F.shape\n",
    "    sqrF = F * F\n",
    "    \n",
    "    # Initialize variables\n",
    "    A = np.ones(size_x)\n",
    "    B = np.zeros(size_x)\n",
    "    a = np.zeros(size_x)\n",
    "    c = np.ones(size_x)\n",
    "    \n",
    "    v = np.ones(size_y)\n",
    "    w = np.copy(y)\n",
    "    g = np.zeros(size_y)\n",
    "    dg = np.ones(size_y)\n",
    "    \n",
    "    a_old = np.zeros(size_x)\n",
    "    \n",
    "    mses = np.zeros(max_iter)\n",
    "    for t in range(max_iter):\n",
    "        # Iterate w and v, and compute g and g'\n",
    "        g_old = np.copy(g)\n",
    "        v = sqrF.dot(c)\n",
    "        w = F.dot(a) - v * g_old\n",
    "        g, dg = channel(y, w, v, var_noise)\n",
    "        \n",
    "        # Iterate A and B, and compute a and c\n",
    "        a_old = np.copy(a)\n",
    "        A = -sqrF.T.dot(dg)\n",
    "        B = F.T.dot(g) + A * a\n",
    "        a, c = prior(A, B)\n",
    "        \n",
    "        # Compute metrics\n",
    "        diff = np.mean(np.abs(a - a_old))\n",
    "        mses[t] = np.mean((a - x0) ** 2) if x0 is not None else 0\n",
    "        \n",
    "        # Print iteration status on screen\n",
    "        if verbose:\n",
    "            print(\"t = %d, diff = %g; mse = %g\" % (t, diff, mses[t]))\n",
    "        \n",
    "        # Check for convergence\n",
    "        if diff < tol or mses[t] == 0:\n",
    "            break\n",
    "            \n",
    "    return mses"
   ]
  },
  {
   "cell_type": "markdown",
   "metadata": {},
   "source": [
    "We now need to implement the functions $f$ and $g$. Essentially this means computing $\\log Z_z (y, \\omega, V) = \\int dz \\, P(y | z) \\, \\mathcal{N} (z; \\omega, V)$ and its two first derivatives wrt $\\omega$, and $\\log Z_X (A, B) = \\int dx \\, P_0 (x) \\, e^{-\\frac12 A x^2 + Bx}$ and its two first derivatives wrt $B$.\n",
    "\n",
    "We do that below for a Rademacher prior and a probit channel.\n",
    "\n",
    "**Exercise 5:** compute `a` and `c` for the Rademacher prior."
   ]
  },
  {
   "cell_type": "code",
   "execution_count": 5,
   "metadata": {},
   "outputs": [],
   "source": [
    "# %load exo5.py\n",
    "from scipy.special import erfcx\n",
    "\n",
    "def prior(A, B):\n",
    "    \"\"\"Compute f and f' for Rademacher prior\"\"\"\n",
    "    \n",
    "    a = np.tanh(B)\n",
    "    c = 1 - a ** 2\n",
    "    return a, c\n",
    "\n",
    "def channel(y, w, v, var_noise):\n",
    "    \"\"\"Compute g and g' for probit channel\"\"\"\n",
    "    \n",
    "    phi = -y * w / np.sqrt(2 * (v + var_noise))\n",
    "    g = 2 * y / (np.sqrt(2 * np.pi * (v + var_noise)) * erfcx(phi))\n",
    "    dg = -g * (w / (v + var_noise) + g)\n",
    "    \n",
    "    return g, dg"
   ]
  },
  {
   "cell_type": "code",
   "execution_count": 6,
   "metadata": {},
   "outputs": [
    {
     "name": "stdout",
     "output_type": "stream",
     "text": [
      "t = 0, diff = 0.701981; mse = 0.449719\n",
      "t = 1, diff = 0.248801; mse = 0.305971\n",
      "t = 2, diff = 0.144461; mse = 0.236628\n",
      "t = 3, diff = 0.0951998; mse = 0.195087\n",
      "t = 4, diff = 0.0718703; mse = 0.164718\n",
      "t = 5, diff = 0.0599972; mse = 0.146438\n",
      "t = 6, diff = 0.0524252; mse = 0.129764\n",
      "t = 7, diff = 0.0465564; mse = 0.113939\n",
      "t = 8, diff = 0.0422488; mse = 0.100954\n",
      "t = 9, diff = 0.0323714; mse = 0.0945953\n",
      "t = 10, diff = 0.0266494; mse = 0.0895933\n",
      "t = 11, diff = 0.0258582; mse = 0.0819494\n",
      "t = 12, diff = 0.0318848; mse = 0.0715008\n",
      "t = 13, diff = 0.0392983; mse = 0.0572534\n",
      "t = 14, diff = 0.0421417; mse = 0.0483037\n",
      "t = 15, diff = 0.0409174; mse = 0.0376511\n",
      "t = 16, diff = 0.0365942; mse = 0.0313262\n",
      "t = 17, diff = 0.0243451; mse = 0.0204558\n",
      "t = 18, diff = 0.0138541; mse = 0.00688887\n",
      "t = 19, diff = 0.00771742; mse = 1.39926e-05\n",
      "t = 20, diff = 0.00012528; mse = 0\n"
     ]
    }
   ],
   "source": [
    "mses_gamp = iterate_gamp(F, y, var_noise=1e-10, x0=x);"
   ]
  },
  {
   "cell_type": "markdown",
   "metadata": {},
   "source": [
    "Cool, it seems to work! Moreover it gives us a small error, again a consequence of the parameters we chose. You can try to reduce the number of samples (i.e. use a smaller `rows_to_columns`) to see what happens."
   ]
  },
  {
   "cell_type": "markdown",
   "metadata": {},
   "source": [
    "## State evolution"
   ]
  },
  {
   "cell_type": "markdown",
   "metadata": {},
   "source": [
    "As before, we can look at the state evolution associated to the algorithm above to see what should be the expected performance as a function of the amount of samples."
   ]
  },
  {
   "cell_type": "code",
   "execution_count": 7,
   "metadata": {},
   "outputs": [],
   "source": [
    "from scipy.integrate import quad\n",
    "from scipy.special import erfc\n",
    "\n",
    "def iterate_se(rows_to_columns, var_noise, v0=1, max_iter=250, tol=1e-11, verbose=1):\n",
    "    \"\"\"Iterates state evolution associated to AMP implementation above\"\"\"\n",
    "    \n",
    "    # Define function to be integrated at each step\n",
    "    f = lambda a: lambda z: np.exp(-z ** 2 / 2) / np.sqrt(2 * np.pi) * \\\n",
    "            (1 - np.tanh(a + np.sqrt(a) * z) ** 2)\n",
    "        \n",
    "    def int_g(v):\n",
    "        var = .5 * (1 - v) / (v + var_noise)\n",
    "        g0 = lambda z: erfc(-z) * channel(+1, np.sqrt(2 * (v + var_noise)) * z, v, var_noise)[1]\n",
    "        if var == 0:\n",
    "            return g0(0)\n",
    "        else:\n",
    "            g = lambda z: np.exp(-.5 * z ** 2 / var) / np.sqrt(2 * np.pi * var) * g0(z)\n",
    "            return quad(g, -10, 10)[0]\n",
    "    \n",
    "    v = np.zeros(max_iter)\n",
    "    v[0] = v0\n",
    "    \n",
    "    for t in range(max_iter - 1):\n",
    "        a = -rows_to_columns * int_g(v[t])\n",
    "        v[t + 1] = quad(f(a), -10, 10)[0]\n",
    "        \n",
    "        diff = np.abs(v[t + 1] - v[t])\n",
    "        if verbose:\n",
    "            print(\"t = %d, diff = %g; v = %g\" % (t, diff, v[t + 1]))\n",
    "            \n",
    "        if diff < tol:\n",
    "            break\n",
    "\n",
    "    return v[:t + 1]"
   ]
  },
  {
   "cell_type": "code",
   "execution_count": 8,
   "metadata": {},
   "outputs": [
    {
     "name": "stdout",
     "output_type": "stream",
     "text": [
      "t = 0, diff = 0.535854; v = 0.464146\n",
      "t = 1, diff = 0.145087; v = 0.319058\n",
      "t = 2, diff = 0.0638839; v = 0.255174\n",
      "t = 3, diff = 0.0354016; v = 0.219773\n",
      "t = 4, diff = 0.0224003; v = 0.197373\n",
      "t = 5, diff = 0.0154477; v = 0.181925\n",
      "t = 6, diff = 0.0113159; v = 0.170609\n",
      "t = 7, diff = 0.00866843; v = 0.161941\n",
      "t = 8, diff = 0.00687379; v = 0.155067\n",
      "t = 9, diff = 0.00560298; v = 0.149464\n",
      "t = 10, diff = 0.00467128; v = 0.144793\n",
      "t = 11, diff = 0.00396866; v = 0.140824\n",
      "t = 12, diff = 0.0034263; v = 0.137398\n",
      "t = 13, diff = 0.00299942; v = 0.134398\n",
      "t = 14, diff = 0.00265786; v = 0.13174\n",
      "t = 15, diff = 0.00238074; v = 0.12936\n",
      "t = 16, diff = 0.00215323; v = 0.127206\n",
      "t = 17, diff = 0.00196457; v = 0.125242\n",
      "t = 18, diff = 0.00180679; v = 0.123435\n",
      "t = 19, diff = 0.00167391; v = 0.121761\n",
      "t = 20, diff = 0.00156138; v = 0.1202\n",
      "t = 21, diff = 0.00146566; v = 0.118734\n",
      "t = 22, diff = 0.00138402; v = 0.11735\n",
      "t = 23, diff = 0.00131426; v = 0.116036\n",
      "t = 24, diff = 0.00125468; v = 0.114781\n",
      "t = 25, diff = 0.0012039; v = 0.113577\n",
      "t = 26, diff = 0.0011608; v = 0.112416\n",
      "t = 27, diff = 0.0011245; v = 0.111292\n",
      "t = 28, diff = 0.00109429; v = 0.110198\n",
      "t = 29, diff = 0.00106959; v = 0.109128\n",
      "t = 30, diff = 0.00104995; v = 0.108078\n",
      "t = 31, diff = 0.00103504; v = 0.107043\n",
      "t = 32, diff = 0.00102458; v = 0.106018\n",
      "t = 33, diff = 0.0010184; v = 0.105\n",
      "t = 34, diff = 0.00101638; v = 0.103984\n",
      "t = 35, diff = 0.0010185; v = 0.102965\n",
      "t = 36, diff = 0.00102477; v = 0.10194\n",
      "t = 37, diff = 0.00103529; v = 0.100905\n",
      "t = 38, diff = 0.00105022; v = 0.0998549\n",
      "t = 39, diff = 0.00106981; v = 0.0987851\n",
      "t = 40, diff = 0.00109438; v = 0.0976907\n",
      "t = 41, diff = 0.00112434; v = 0.0965664\n",
      "t = 42, diff = 0.00116024; v = 0.0954061\n",
      "t = 43, diff = 0.00120274; v = 0.0942034\n",
      "t = 44, diff = 0.00125265; v = 0.0929507\n",
      "t = 45, diff = 0.00131099; v = 0.0916398\n",
      "t = 46, diff = 0.00137902; v = 0.0902607\n",
      "t = 47, diff = 0.00145829; v = 0.0888024\n",
      "t = 48, diff = 0.00155073; v = 0.0872517\n",
      "t = 49, diff = 0.00165876; v = 0.0855929\n",
      "t = 50, diff = 0.00178543; v = 0.0838075\n",
      "t = 51, diff = 0.0019346; v = 0.0818729\n",
      "t = 52, diff = 0.00211121; v = 0.0797617\n",
      "t = 53, diff = 0.00232166; v = 0.0774401\n",
      "t = 54, diff = 0.0025743; v = 0.0748658\n",
      "t = 55, diff = 0.00288014; v = 0.0719856\n",
      "t = 56, diff = 0.00325383; v = 0.0687318\n",
      "t = 57, diff = 0.00371496; v = 0.0650168\n",
      "t = 58, diff = 0.00428987; v = 0.060727\n",
      "t = 59, diff = 0.00501341; v = 0.0557135\n",
      "t = 60, diff = 0.00592992; v = 0.0497836\n",
      "t = 61, diff = 0.00708831; v = 0.0426953\n",
      "t = 62, diff = 0.0085151; v = 0.0341802\n",
      "t = 63, diff = 0.0101063; v = 0.0240739\n",
      "t = 64, diff = 0.0112403; v = 0.0128336\n",
      "t = 65, diff = 0.00971978; v = 0.00311387\n",
      "t = 66, diff = 0.00309709; v = 1.67773e-05\n",
      "t = 67, diff = 1.67773e-05; v = 0\n",
      "t = 68, diff = 0; v = 0\n"
     ]
    }
   ],
   "source": [
    "mses_se = iterate_se(rows_to_columns=1.5, var_noise=1e-10, max_iter=500);"
   ]
  },
  {
   "cell_type": "markdown",
   "metadata": {},
   "source": [
    "We can then ask ourselves: how much samples are needed in order to achieve zero error? Let's do a simple binary search to see."
   ]
  },
  {
   "cell_type": "code",
   "execution_count": 9,
   "metadata": {},
   "outputs": [
    {
     "name": "stdout",
     "output_type": "stream",
     "text": [
      "alpha = 1, found solution = False\n",
      "alpha = 1.5, found solution = True\n",
      "alpha = 1.25, found solution = False\n",
      "alpha = 1.375, found solution = False\n",
      "alpha = 1.4375, found solution = False\n",
      "alpha = 1.46875, found solution = False\n",
      "alpha = 1.48438, found solution = False\n",
      "alpha = 1.49219, found solution = False\n",
      "alpha = 1.49609, found solution = True\n",
      "alpha = 1.49414, found solution = True\n",
      "alpha = 1.49316, found solution = True\n",
      "alpha = 1.49268, found solution = True\n",
      "alpha = 1.49243, found solution = False\n",
      "alpha = 1.49255, found solution = False\n",
      "alpha = 1.49261, found solution = False\n"
     ]
    },
    {
     "data": {
      "text/plain": [
       "1.492645263671875"
      ]
     },
     "execution_count": 9,
     "metadata": {},
     "output_type": "execute_result"
    }
   ],
   "source": [
    "def find_spinodal(tol=1e-4, threshold=1e-5, verbose=1):\n",
    "    \"\"\"Determines algorithmic transition by performing binary search\"\"\"\n",
    "    \n",
    "    # Returns True if solution has been found\n",
    "    f = lambda x: (iterate_se(x, 1e-10, max_iter=1000, verbose=0)[-1] < threshold)\n",
    "    \n",
    "    # Perform binary search\n",
    "    alpha_l, alpha_r = 0, 2\n",
    "    f_l, f_r = f(alpha_l), f(alpha_r)\n",
    "    while alpha_r - alpha_l > tol:\n",
    "        alpha_m = .5 * (alpha_l + alpha_r)\n",
    "        f_m = f(alpha_m)\n",
    "        if verbose:\n",
    "            print(\"alpha = %g, found solution = %s\" % (alpha_m, f_m))\n",
    "        \n",
    "        if f_m:\n",
    "            alpha_r = alpha_m\n",
    "        else:\n",
    "            alpha_l = alpha_m\n",
    "            \n",
    "    return .5 * (alpha_l + alpha_r)\n",
    "\n",
    "find_spinodal()"
   ]
  },
  {
   "cell_type": "markdown",
   "metadata": {},
   "source": [
    "$\\alpha_s = 1.493$ is the same number found by [4]."
   ]
  },
  {
   "cell_type": "markdown",
   "metadata": {},
   "source": [
    "## A closer look at the 1st order phase transition"
   ]
  },
  {
   "cell_type": "markdown",
   "metadata": {},
   "source": [
    "The fact that the error jumps from a finite value to 0 at $\\alpha_s = 1.493$ is indicative of a 1st order phase transition. This usually means that, already for smaller values of $\\alpha$, the planted solution could have been found by an exhaustive search, but AMP in stuck in local minima (or metastable states).\n",
    "\n",
    "Let's look at the free energy landscape to try to understand this better. We first implement a function to compute the replica free energy as a function of the error (see e.g. [2]). The replica free energy can be seen as an average over all possible instances of the Bethe free energy (the function AMP is minimizing), and thus gives us some intuition on AMP's behavior."
   ]
  },
  {
   "cell_type": "code",
   "execution_count": 10,
   "metadata": {},
   "outputs": [],
   "source": [
    "from scipy.integrate import quad\n",
    "\n",
    "def phi(v, rows_to_columns, var_noise=1e-10):\n",
    "    \"\"\"Compute replica free energy for Ising perceptron\"\"\"\n",
    "    \n",
    "    # Compute A(V) using SE iteration\n",
    "    dg0 = lambda z: erfc(-z) * channel(+1, np.sqrt(2 * (v + var_noise)) * z, v, var_noise)[1]\n",
    "    var = .5 * (1 - v) / (v + var_noise)\n",
    "    if var == 0:\n",
    "        a = -rows_to_columns * dg0(0)\n",
    "    else:\n",
    "        dg = lambda z: np.exp(-.5 * z ** 2 / var) / np.sqrt(2 * np.pi * var) * dg0(z)\n",
    "        a = -rows_to_columns * quad(dg, -10, 10)[0]    \n",
    "    \n",
    "    # Compute <log Z_z>\n",
    "    lnzz0 = lambda z: erfc(z) * np.log(.5 * erfc(z))\n",
    "    if var == 0:\n",
    "        avg_lnzz = lnzz0(0)\n",
    "    else:\n",
    "        lnzz = lambda z: np.exp(-.5 * z ** 2 / var) / np.sqrt(2 * np.pi * var) * lnzz0(z)\n",
    "        avg_lnzz = quad(lnzz, -10, 10)[0]\n",
    "\n",
    "    # Compute <log Z_x>\n",
    "    lnzx = lambda z: np.exp(-.5 * z ** 2) / np.sqrt(2 * np.pi) * \\\n",
    "            (np.log(np.cosh(a + np.sqrt(a) * z)) if np.abs(a + np.sqrt(a) * z) < 100 else \\\n",
    "                np.abs(a + np.sqrt(a) * z) - np.log(2))\n",
    "    avg_lnzx = -.5 * a + quad(lnzx, -10, 10)[0]\n",
    "    \n",
    "    return .5 * a * (1 - v) - rows_to_columns * avg_lnzz - avg_lnzx"
   ]
  },
  {
   "cell_type": "markdown",
   "metadata": {},
   "source": [
    "We now compute and plot the free energy as function of the error, for multiple values of $\\alpha$ (samples-to-features ratio)"
   ]
  },
  {
   "cell_type": "code",
   "execution_count": null,
   "metadata": {},
   "outputs": [],
   "source": [
    "sns.set('notebook', font_scale=1.5)\n",
    "# Compute and plot free energy as a function of the MSE, i.e. $\\phi (V)$, for many different $\\alpha$\n",
    "alphas = [1.2, 1.3, 1.4, 1.5]\n",
    "\n",
    "fig, axs = plt.subplots(2, 2, figsize=(8, 8))\n",
    "for i, alpha in enumerate(alphas):\n",
    "    vs = np.logspace(-0.5, 0, 100)\n",
    "    phis = [phi(v, alpha) for v in vs]\n",
    "    ax = axs[i // 2, i % 2]\n",
    "    ax.semilogx(vs, phis, lw = 3)\n",
    "    \n",
    "    # Add labels\n",
    "    ax.set_title(r\"$\\alpha = %.1f$\" % (alpha))\n",
    "    if i // 2 == 1:\n",
    "        ax.set_xlabel(r\"$q$\", fontsize=20)\n",
    "    if i % 2 == 0:\n",
    "        ax.set_ylabel(r\"$\\Phi_{\\mathrm{RS}}(q)$\", fontsize=20)\n",
    "fig.set_tight_layout(True)\n",
    "# plt.savefig('../Lecture Notes/perceptron_free_entropy.pdf', bbox_inches='tight')"
   ]
  },
  {
   "cell_type": "markdown",
   "metadata": {},
   "source": [
    "It is quite interesting to try to understand the phase transition from the free energy landscape point of view.\n",
    "\n",
    "First let's see what happens at the point where zero error starts to be found (bottom right): the free energy has a single minimum at 0. In the previous 2 plots, for slightly smaller $\\alpha$, it had two minima: one at zero and another at large error; however, the zero error minimum was already global, meaning it could have been found by an exhaustive search. Before that the zero error minimum was local, and it wasn't distinguishable from the other minima -- in other words, one could find other minima that better fit our data.\n",
    "\n",
    "These three different phases are typically denoted by **impossible** (1st plot), **hard** (2nd and 3rd plots) and **easy** (4th plot).\n",
    "\n",
    "Finally, let's do a MSE vs. $\\alpha$ plot to connect this to what we have seen in class."
   ]
  },
  {
   "cell_type": "code",
   "execution_count": 13,
   "metadata": {
    "scrolled": true
   },
   "outputs": [
    {
     "name": "stdout",
     "output_type": "stream",
     "text": [
      "alpha = 0.01, fps = 0.993648/5.62689e-08/0\n",
      "alpha = 0.02, fps = 0.987325/2.79828e-07/0\n",
      "alpha = 0.03, fps = 0.98103/7.24126e-07/0\n",
      "alpha = 0.04, fps = 0.974761/1.4318e-06/0\n",
      "alpha = 0.05, fps = 0.968519/2.44099e-06/0\n",
      "alpha = 0.06, fps = 0.962302/3.78737e-06/0\n",
      "alpha = 0.07, fps = 0.95611/5.50556e-06/0\n",
      "alpha = 0.08, fps = 0.949942/7.62825e-06/0\n",
      "alpha = 0.09, fps = 0.943797/1.01877e-05/0\n",
      "alpha = 0.10, fps = 0.937676/1.32187e-05/0\n",
      "alpha = 0.11, fps = 0.931576/1.67541e-05/0\n",
      "alpha = 0.12, fps = 0.925499/2.08231e-05/0\n",
      "alpha = 0.13, fps = 0.919443/2.54549e-05/0\n",
      "alpha = 0.14, fps = 0.913407/3.06836e-05/0\n",
      "alpha = 0.15, fps = 0.907392/3.65562e-05/0\n",
      "alpha = 0.16, fps = 0.901397/4.30888e-05/0\n",
      "alpha = 0.17, fps = 0.895421/5.03206e-05/0\n",
      "alpha = 0.18, fps = 0.889464/5.82857e-05/0\n",
      "alpha = 0.19, fps = 0.883526/6.70182e-05/0\n",
      "alpha = 0.20, fps = 0.877606/7.65533e-05/0\n",
      "alpha = 0.21, fps = 0.871703/8.69263e-05/0\n",
      "alpha = 0.22, fps = 0.865819/9.81732e-05/0\n",
      "alpha = 0.23, fps = 0.859951/0.000110331/0\n",
      "alpha = 0.24, fps = 0.8541/0.000123437/0\n",
      "alpha = 0.25, fps = 0.848266/0.000137529/0\n",
      "alpha = 0.26, fps = 0.842447/0.000152646/0\n",
      "alpha = 0.27, fps = 0.836645/0.000168827/0\n",
      "alpha = 0.28, fps = 0.830858/0.000186114/0\n",
      "alpha = 0.29, fps = 0.825086/0.000204547/0\n",
      "alpha = 0.30, fps = 0.819329/0.000224167/0\n",
      "alpha = 0.31, fps = 0.813586/0.00024502/0\n",
      "alpha = 0.32, fps = 0.807858/0.000267147/0\n",
      "alpha = 0.33, fps = 0.802144/0.000290595/0\n",
      "alpha = 0.34, fps = 0.796444/0.000315409/0\n",
      "alpha = 0.35, fps = 0.790757/0.000341637/0\n",
      "alpha = 0.36, fps = 0.785083/0.000369326/0\n",
      "alpha = 0.37, fps = 0.779423/0.000398526/0\n",
      "alpha = 0.38, fps = 0.773775/0.000429288/0\n",
      "alpha = 0.39, fps = 0.768139/0.000461662/0\n",
      "alpha = 0.40, fps = 0.762516/0.000495704/0\n",
      "alpha = 0.41, fps = 0.756905/0.000531465/0\n",
      "alpha = 0.42, fps = 0.751306/0.000569003/0\n",
      "alpha = 0.43, fps = 0.745719/0.000608376/0\n",
      "alpha = 0.44, fps = 0.740142/0.000649642/0\n",
      "alpha = 0.45, fps = 0.734577/0.00069286/0\n",
      "alpha = 0.46, fps = 0.729023/0.000738092/0\n",
      "alpha = 0.47, fps = 0.723479/0.000785404/0\n",
      "alpha = 0.48, fps = 0.717946/0.00083486/0\n",
      "alpha = 0.49, fps = 0.712424/0.000886526/0\n",
      "alpha = 0.50, fps = 0.706911/0.000940473/0\n",
      "alpha = 0.51, fps = 0.701408/0.00099677/0\n",
      "alpha = 0.52, fps = 0.695915/0.00105549/0\n",
      "alpha = 0.53, fps = 0.690431/0.00111671/0\n",
      "alpha = 0.54, fps = 0.684957/0.00118051/0\n",
      "alpha = 0.55, fps = 0.679491/0.00124696/0\n",
      "alpha = 0.56, fps = 0.674034/0.00131616/0\n",
      "alpha = 0.57, fps = 0.668586/0.00138817/0\n",
      "alpha = 0.58, fps = 0.663147/0.00146264/0\n",
      "alpha = 0.59, fps = 0.657715/0.00154102/0\n",
      "alpha = 0.60, fps = 0.652292/0.00162204/0\n",
      "alpha = 0.61, fps = 0.646876/0.00170624/0\n",
      "alpha = 0.62, fps = 0.641468/0.00179373/0\n",
      "alpha = 0.63, fps = 0.636068/0.0018846/0\n",
      "alpha = 0.64, fps = 0.630674/0.00197897/0\n",
      "alpha = 0.65, fps = 0.625288/0.00207694/0\n",
      "alpha = 0.66, fps = 0.619908/0.00217862/0\n",
      "alpha = 0.67, fps = 0.614535/0.00228413/0\n",
      "alpha = 0.68, fps = 0.609168/0.00239359/0\n",
      "alpha = 0.69, fps = 0.603807/0.00250712/0\n",
      "alpha = 0.70, fps = 0.598452/0.00262485/0\n",
      "alpha = 0.71, fps = 0.593103/0.00274691/0\n",
      "alpha = 0.72, fps = 0.58776/0.00287343/0\n",
      "alpha = 0.73, fps = 0.582421/0.00300457/0\n",
      "alpha = 0.74, fps = 0.577088/0.00314047/0\n",
      "alpha = 0.75, fps = 0.571759/0.00328129/0\n",
      "alpha = 0.76, fps = 0.566435/0.00342717/0\n",
      "alpha = 0.77, fps = 0.561115/0.00357828/0\n",
      "alpha = 0.78, fps = 0.555799/0.0037348/0\n",
      "alpha = 0.79, fps = 0.550487/0.00389691/0\n",
      "alpha = 0.80, fps = 0.545179/0.00406478/0\n",
      "alpha = 0.81, fps = 0.539874/0.00423861/0\n",
      "alpha = 0.82, fps = 0.534572/0.0044186/0\n",
      "alpha = 0.83, fps = 0.529272/0.00460495/0\n",
      "alpha = 0.84, fps = 0.523975/0.00479789/0\n",
      "alpha = 0.85, fps = 0.51868/0.00499763/0\n",
      "alpha = 0.86, fps = 0.513387/0.00520441/0\n",
      "alpha = 0.87, fps = 0.508096/0.00541849/0\n",
      "alpha = 0.88, fps = 0.502806/0.0056401/0\n",
      "alpha = 0.89, fps = 0.497516/0.00586953/0\n",
      "alpha = 0.90, fps = 0.492227/0.00610705/0\n",
      "alpha = 0.91, fps = 0.486939/0.00635294/0\n",
      "alpha = 0.92, fps = 0.48165/0.00660753/0\n",
      "alpha = 0.93, fps = 0.476361/0.00687112/0\n",
      "alpha = 0.94, fps = 0.471071/0.00714406/0\n",
      "alpha = 0.95, fps = 0.465779/0.00742669/0\n",
      "alpha = 0.96, fps = 0.460486/0.00771939/0\n",
      "alpha = 0.97, fps = 0.45519/0.00802254/0\n",
      "alpha = 0.98, fps = 0.449892/0.00833656/0\n",
      "alpha = 0.99, fps = 0.44459/0.00866187/0\n",
      "alpha = 1.00, fps = 0.439285/0.00899893/0\n",
      "alpha = 1.01, fps = 0.433976/0.0093482/0\n",
      "alpha = 1.02, fps = 0.428662/0.00971022/0\n",
      "alpha = 1.03, fps = 0.423343/0.0100855/0\n",
      "alpha = 1.04, fps = 0.418017/0.0104746/0\n",
      "alpha = 1.05, fps = 0.412686/0.0108781/0\n",
      "alpha = 1.06, fps = 0.407347/0.0112967/0\n",
      "alpha = 1.07, fps = 0.402/0.011731/0\n",
      "alpha = 1.08, fps = 0.396644/0.0121818/0\n",
      "alpha = 1.09, fps = 0.391278/0.0126497/0\n",
      "alpha = 1.10, fps = 0.385903/0.0131357/0\n",
      "alpha = 1.11, fps = 0.380516/0.0136406/0\n",
      "alpha = 1.12, fps = 0.375116/0.0141653/0\n",
      "alpha = 1.13, fps = 0.369704/0.0147108/0\n",
      "alpha = 1.14, fps = 0.364277/0.0152781/0\n",
      "alpha = 1.15, fps = 0.358834/0.0158685/0\n",
      "alpha = 1.16, fps = 0.353375/0.0164832/0\n",
      "alpha = 1.17, fps = 0.347897/0.0171234/0\n",
      "alpha = 1.18, fps = 0.342399/0.0177906/0\n",
      "alpha = 1.19, fps = 0.33688/0.0184865/0\n",
      "alpha = 1.20, fps = 0.331339/0.0192126/0\n",
      "alpha = 1.21, fps = 0.325772/0.0199709/0\n",
      "alpha = 1.22, fps = 0.320178/0.0207633/0\n",
      "alpha = 1.23, fps = 0.314555/0.0215921/0\n",
      "alpha = 1.24, fps = 0.3089/0.0224597/0\n",
      "alpha = 1.25, fps = 0.303211/0.0233688/0\n",
      "alpha = 1.26, fps = 0.297484/0.0243224/0\n",
      "alpha = 1.27, fps = 0.291717/0.0253238/0\n",
      "alpha = 1.28, fps = 0.285905/0.0263767/0\n",
      "alpha = 1.29, fps = 0.280044/0.0274854/0\n",
      "alpha = 1.30, fps = 0.274129/0.0286543/0\n",
      "alpha = 1.31, fps = 0.268156/0.0298891/0\n",
      "alpha = 1.32, fps = 0.262118/0.0311956/0\n",
      "alpha = 1.33, fps = 0.256008/0.0325809/0\n",
      "alpha = 1.34, fps = 0.249817/0.0340532/0\n",
      "alpha = 1.35, fps = 0.243537/0.035622/0\n",
      "alpha = 1.36, fps = 0.237156/0.0372986/0\n",
      "alpha = 1.37, fps = 0.23066/0.0390964/0\n",
      "alpha = 1.38, fps = 0.224033/0.0410319/0\n",
      "alpha = 1.39, fps = 0.217255/0.0431251/0\n",
      "alpha = 1.40, fps = 0.210301/0.0454014/0\n",
      "alpha = 1.41, fps = 0.203138/0.0478931/0\n",
      "alpha = 1.42, fps = 0.195723/0.0506431/0\n",
      "alpha = 1.43, fps = 0.187998/0.0537096/0\n",
      "alpha = 1.44, fps = 0.17988/0.0571757/0\n",
      "alpha = 1.45, fps = 0.171243/0.061167/0\n",
      "alpha = 1.46, fps = 0.161881/0.0658896/0\n",
      "alpha = 1.47, fps = 0.15141/0.0717284/0\n",
      "alpha = 1.48, fps = 0.138923/0.0795884/0\n",
      "alpha = 1.49, fps = 0.120444/0.0934484/0\n",
      "alpha = 1.50, fps = 0/0/0\n",
      "alpha = 1.51, fps = 0/0/0\n",
      "alpha = 1.52, fps = 0/0/0\n",
      "alpha = 1.53, fps = 0/0/0\n",
      "alpha = 1.54, fps = 2.12545e-20/0/0\n",
      "alpha = 1.55, fps = 0/0/0\n",
      "alpha = 1.56, fps = 0/0/0\n",
      "alpha = 1.57, fps = 8.35005e-15/0/0\n",
      "alpha = 1.58, fps = 0/0/0\n",
      "alpha = 1.59, fps = 0/0/0\n"
     ]
    }
   ],
   "source": [
    "from scipy.optimize import brent\n",
    "\n",
    "alphas = np.arange(0.01, 1.6, 0.01)\n",
    "mse_random = np.zeros(len(alphas))\n",
    "mse_inform = np.zeros(len(alphas))\n",
    "mse_unstab = np.zeros(len(alphas))\n",
    "\n",
    "# Loop through values of alpha\n",
    "for i, alpha in enumerate(alphas):\n",
    "    # Compute stable fixed points by starting from random/informed initializations\n",
    "    mse_random[i] = iterate_se(alpha, var_noise=1e-10, v0=1, max_iter=1000, verbose=0)[-1]\n",
    "    mse_inform[i] = iterate_se(alpha, var_noise=1e-10, v0=1e-9, max_iter=1000, verbose=0)[-1]\n",
    "    \n",
    "    # Compute unstable fixed point by performing gradient ascent on free energy\n",
    "    if mse_random[i] > 1e-10:\n",
    "        f = lambda x: -phi(x, alpha)\n",
    "        mse_unstab[i] = brent(f, brack=(1e-10, mse_inform[i]))\n",
    "    \n",
    "    print(\"alpha = %.2f, fps = %g/%g/%g\" % (alpha, mse_random[i], mse_unstab[i], mse_inform[i]))"
   ]
  },
  {
   "cell_type": "code",
   "execution_count": 14,
   "metadata": {},
   "outputs": [
    {
     "data": {
      "text/plain": [
       "Text(0,0.5,'mean-squared error')"
      ]
     },
     "execution_count": 14,
     "metadata": {},
     "output_type": "execute_result"
    },
    {
     "data": {
      "image/png": "[encoded data removed]",
      "text/plain": [
       "<matplotlib.figure.Figure at 0x118942a58>"
      ]
     },
     "metadata": {},
     "output_type": "display_data"
    }
   ],
   "source": [
    "# Plot results\n",
    "cond = (mse_random > 1e-9)\n",
    "plt.plot(alphas[cond], mse_random[cond], \"r-\", lw=2)\n",
    "plt.plot(alphas[~cond], mse_inform[~cond], \"r-\", lw=2)\n",
    "plt.plot(alphas[cond], mse_inform[cond], \"r-.\")\n",
    "plt.plot(alphas[cond], mse_unstab[cond], \"r-.\")\n",
    "\n",
    "plt.xlabel(r\"samples-to-features ratio $\\alpha$\")\n",
    "plt.ylabel(\"mean-squared error\")"
   ]
  },
  {
   "cell_type": "markdown",
   "metadata": {},
   "source": [
    "Let's do another binary search to look for the value of $\\alpha_c$ (i.e. the impossible-hard transition), and mark it on the plot above."
   ]
  },
  {
   "cell_type": "code",
   "execution_count": 15,
   "metadata": {},
   "outputs": [
    {
     "name": "stdout",
     "output_type": "stream",
     "text": [
      "alpha = 0.745, found solution = False\n",
      "alpha = 1.1175, found solution = False\n",
      "alpha = 1.30375, found solution = True\n",
      "alpha = 1.21062, found solution = False\n",
      "alpha = 1.25719, found solution = True\n",
      "alpha = 1.23391, found solution = False\n",
      "alpha = 1.24555, found solution = True\n",
      "alpha = 1.23973, found solution = False\n",
      "alpha = 1.24264, found solution = False\n",
      "alpha = 1.24409, found solution = False\n",
      "alpha = 1.24482, found solution = True\n",
      "alpha = 1.24446, found solution = False\n",
      "alpha = 1.24464, found solution = False\n",
      "alpha = 1.24473, found solution = True\n"
     ]
    }
   ],
   "source": [
    "def find_critical(tol=1e-4, threshold=1e-5, verbose=1):\n",
    "    \"\"\"Determines IT transition by performing binary search\"\"\"\n",
    "    \n",
    "    # Returns True if free energy of bad minimum is larger than free energy at zero\n",
    "    f = lambda x: phi(iterate_se(x, 1e-10, verbose=0)[-1], x) > phi(0, x)\n",
    "    \n",
    "    # Perform binary search\n",
    "    alpha_l, alpha_r = 0, 1.49\n",
    "    f_l, f_r = f(alpha_l), f(alpha_r)\n",
    "    while alpha_r - alpha_l > tol:\n",
    "        alpha_m = .5 * (alpha_l + alpha_r)\n",
    "        f_m = f(alpha_m)\n",
    "        if verbose:\n",
    "            print(\"alpha = %g, found solution = %s\" % (alpha_m, f_m))\n",
    "        \n",
    "        if f_m:\n",
    "            alpha_r = alpha_m\n",
    "        else:\n",
    "            alpha_l = alpha_m\n",
    "            \n",
    "    return .5 * (alpha_l + alpha_r)\n",
    "\n",
    "alpha_c = find_critical()"
   ]
  },
  {
   "cell_type": "code",
   "execution_count": 16,
   "metadata": {},
   "outputs": [
    {
     "data": {
      "text/plain": [
       "Text(0,0.5,'mean-squared error')"
      ]
     },
     "execution_count": 16,
     "metadata": {},
     "output_type": "execute_result"
    },
    {
     "data": {
      "image/png": "[encoded data removed]",
      "text/plain": [
       "<matplotlib.figure.Figure at 0x1189ba0f0>"
      ]
     },
     "metadata": {},
     "output_type": "display_data"
    }
   ],
   "source": [
    "# Plot results\n",
    "cond = (mse_random > 1e-9)\n",
    "plt.plot(alphas[cond], mse_random[cond], \"r-\", lw=2)\n",
    "plt.plot(alphas[~cond], mse_inform[~cond], \"r-\", lw=2)\n",
    "plt.plot(alphas[cond], mse_inform[cond], \"r-.\")\n",
    "plt.plot(alphas[cond], mse_unstab[cond], \"r-.\")\n",
    "plt.axvline(alpha_c, c=\"r\", ls=\"-\", lw=2, alpha=0.5)\n",
    "\n",
    "plt.xlabel(r\"samples-to-features ratio $\\alpha$\")\n",
    "plt.ylabel(\"mean-squared error\")"
   ]
  },
  {
   "cell_type": "markdown",
   "metadata": {},
   "source": [
    "## References\n",
    "\n",
    "1. Zdeborová, Lenka, and Florent Krzakala. \"Statistical physics of inference: Thresholds and algorithms.\" Advances in Physics 65.5 (2016): 453-552.\n",
    "\n",
    "2. Engel, Andreas. Statistical mechanics of learning. Cambridge University Press, 2001.\n",
    "\n",
    "3. Gardner, Elizabeth. \"The space of interactions in neural network models.\" Journal of physics A: Mathematical and general 21.1 (1988): 257.\n",
    "\n",
    "4. Györgyi, Géza. \"First-order transition to perfect generalization in a neural network with binary synapses.\" Physical Review A 41.12 (1990): 7097.\n",
    "\n",
    "5. Seung, H. S., Haim Sompolinsky, and N. Tishby. \"Statistical mechanics of learning from examples.\" Physical Review A 45.8 (1992): 6056.\n",
    "\n",
    "6. Rangan, Sundeep. \"Generalized approximate message passing for estimation with random linear mixing.\" Information Theory Proceedings (ISIT), 2011 IEEE International Symposium on. IEEE, 2011."
   ]
  }
 ],
 "metadata": {
  "kernelspec": {
   "display_name": "Python 3",
   "language": "python",
   "name": "python3"
  },
  "language_info": {
   "codemirror_mode": {
    "name": "ipython",
    "version": 3
   },
   "file_extension": ".py",
   "mimetype": "text/x-python",
   "name": "python",
   "nbconvert_exporter": "python",
   "pygments_lexer": "ipython3",
   "version": "3.6.4"
  },
  "varInspector": {
   "cols": {
    "lenName": 16,
    "lenType": 16,
    "lenVar": 40
   },
   "kernels_config": {
    "python": {
     "delete_cmd_postfix": "",
     "delete_cmd_prefix": "del ",
     "library": "var_list.py",
     "varRefreshCmd": "print(var_dic_list())"
    },
    "r": {
     "delete_cmd_postfix": ") ",
     "delete_cmd_prefix": "rm(",
     "library": "var_list.r",
     "varRefreshCmd": "cat(var_dic_list()) "
    }
   },
   "types_to_exclude": [
    "module",
    "function",
    "builtin_function_or_method",
    "instance",
    "_Feature"
   ],
   "window_display": false
  }
 },
 "nbformat": 4,
 "nbformat_minor": 2
}
